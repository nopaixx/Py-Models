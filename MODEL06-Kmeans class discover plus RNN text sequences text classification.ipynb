{
  "cells": [
    {
      "metadata": {
        "_uuid": "8f2839f25d086af736a60e9eeb907d3b93b6e0e5",
        "_cell_guid": "b1076dfc-b9ad-4769-8c92-a6c4dae69d19",
        "trusted": true
      },
      "cell_type": "code",
      "source": "# This Python 3 environment comes with many helpful analytics libraries installed\n# It is defined by the kaggle/python docker image: https://github.com/kaggle/docker-python\n# For example, here's several helpful packages to load in \n\nimport numpy as np # linear algebra\nimport pandas as pd # data processing, CSV file I/O (e.g. pd.read_csv)\n\n# Input data files are available in the \"../input/\" directory.\n# For example, running this (by clicking run or pressing Shift+Enter) will list the files in the input directory\n\nimport os\nprint(os.listdir(\"../input\"))\n\n# Any results you write to the current directory are saved as output.",
      "execution_count": 1,
      "outputs": [
        {
          "output_type": "stream",
          "text": "['embeddings', 'train.csv', 'sample_submission.csv', 'test.csv']\n",
          "name": "stdout"
        }
      ]
    },
    {
      "metadata": {
        "_cell_guid": "79c7e3d0-c299-4dcb-8224-4455121ee9b0",
        "_uuid": "d629ff2d2480ee46fbb7e2d37f6b5fab8052498a",
        "trusted": true
      },
      "cell_type": "code",
      "source": "np.random.seed(7)\n\ntrain_df = pd.read_table('../input/train.csv',sep=',')\ntest_df = pd.read_table('../input/test.csv',sep=',')\n\n#full_df = pd.concat([train_df[,1], test_df[,1]])\nprint(train_df.shape, test_df.shape)",
      "execution_count": 2,
      "outputs": [
        {
          "output_type": "stream",
          "text": "(1306122, 3) (56370, 2)\n",
          "name": "stdout"
        }
      ]
    },
    {
      "metadata": {
        "trusted": true,
        "_uuid": "9786ad5182cae16f12ba198c7a1f3840428e1895"
      },
      "cell_type": "code",
      "source": "full_df = pd.concat([train_df[\"question_text\"], test_df[\"question_text\"]])\n#print(full_df)\nraw_text=full_df.str.lower()\n\n#full_df=full_df.values.reshape(-1,1)",
      "execution_count": 3,
      "outputs": []
    },
    {
      "metadata": {
        "trusted": true,
        "_uuid": "52504f1e6ca31dd674337bb2d7cf3d63bf470469"
      },
      "cell_type": "code",
      "source": "from sklearn.feature_extraction.text import TfidfVectorizer\nfrom sklearn.cluster import KMeans\nfrom sklearn.metrics import adjusted_rand_score\nvectorizer = TfidfVectorizer(stop_words='english')\nX = vectorizer.fit_transform(full_df)\ntrue_k = 7\nmodel = KMeans(n_clusters=true_k, init='k-means++', max_iter=300, n_init=1)\nmodel.fit(X)",
      "execution_count": 4,
      "outputs": [
        {
          "output_type": "execute_result",
          "execution_count": 4,
          "data": {
            "text/plain": "KMeans(algorithm='auto', copy_x=True, init='k-means++', max_iter=300,\n    n_clusters=7, n_init=1, n_jobs=1, precompute_distances='auto',\n    random_state=None, tol=0.0001, verbose=0)"
          },
          "metadata": {}
        }
      ]
    },
    {
      "metadata": {
        "trusted": true,
        "_uuid": "1d8765b86b1a40a0d487c940acf56b54bff291b7"
      },
      "cell_type": "code",
      "source": "print(\"Top terms per cluster:\")\norder_centroids = model.cluster_centers_.argsort()[:, ::-1]\nterms = vectorizer.get_feature_names()\nfor i in range(true_k):\n    print(\"Cluster %d:\" % i),\n    for ind in order_centroids[i, :10]:\n        print(' %s' % terms[ind]),\n    print\n\nprint(\"\\n\")\nprint(\"Prediction\")\n",
      "execution_count": 5,
      "outputs": [
        {
          "output_type": "stream",
          "text": "Top terms per cluster:\nCluster 0:\n like\n did\n feel\n does\n look\n life\n don\n world\n start\n just\nCluster 1:\n people\n india\n best\n like\n does\n don\n white\n quora\n hate\n black\nCluster 2:\n does\n best\n good\n life\n time\n way\n use\n work\n world\n quora\nCluster 3:\n think\n people\n does\n trump\n don\n like\n world\n good\n women\n quora\nCluster 4:\n know\n don\n people\n want\n does\n need\n things\n like\n person\n love\nCluster 5:\n make\n money\n does\n people\n way\n feel\n good\n like\n friends\n best\nCluster 6:\n companies\n mobile\n space\n best\n app\n phone\n india\n does\n number\n work\n\n\nPrediction\n",
          "name": "stdout"
        }
      ]
    },
    {
      "metadata": {
        "trusted": true,
        "_uuid": "d6a0dce1b3fef6328025a899002d3ce5e8cf2afd"
      },
      "cell_type": "code",
      "source": "KY = vectorizer.transform(train_df[\"question_text\"])\nprediction = model.predict(KY)\nKYT = vectorizer.transform(test_df[\"question_text\"])\nprediction_test = model.predict(KYT)\nprediction=prediction.reshape(-1,1)\nprediction_test=prediction_test.reshape(-1,1)\nprint(prediction.shape)\nprint(prediction_test.shape)\nprint(\"DONE\")",
      "execution_count": 7,
      "outputs": [
        {
          "output_type": "stream",
          "text": "DONE\n",
          "name": "stdout"
        }
      ]
    },
    {
      "metadata": {
        "trusted": true,
        "_uuid": "4e7e1adb93ccb3096fea5d4717b2ae2bf635f2e7"
      },
      "cell_type": "code",
      "source": "from sklearn.preprocessing import LabelEncoder\nle = LabelEncoder()\nle.fit(prediction)\npredklabel = le.transform(prediction)\npredklabelTest = le.transform(prediction_test)\nprint(predklabel.shape)\nprint(predklabel)",
      "execution_count": 29,
      "outputs": [
        {
          "output_type": "stream",
          "text": "(1306122,)\n[0 1 6 ... 2 2 2]\n",
          "name": "stdout"
        }
      ]
    },
    {
      "metadata": {
        "trusted": true,
        "_uuid": "cf80f106daad729c342bb430b5a7f89b903ce239"
      },
      "cell_type": "code",
      "source": "from keras.preprocessing.text import Tokenizer\ntok_raw = Tokenizer()\ntok_raw.fit_on_texts(raw_text)\nprint(\"DONE\")",
      "execution_count": 8,
      "outputs": [
        {
          "output_type": "stream",
          "text": "Using TensorFlow backend.\n",
          "name": "stderr"
        },
        {
          "output_type": "stream",
          "text": "DONE\n",
          "name": "stdout"
        }
      ]
    },
    {
      "metadata": {
        "trusted": true,
        "_uuid": "ba10e2558b58a490d474c2598c19bcbc6db37b97"
      },
      "cell_type": "code",
      "source": "train.max()",
      "execution_count": null,
      "outputs": []
    },
    {
      "metadata": {
        "trusted": true,
        "_uuid": "80f00f0ef635dc9a5c920ada4298f621db6a3a9d"
      },
      "cell_type": "code",
      "source": "np.array(train).max()",
      "execution_count": null,
      "outputs": []
    },
    {
      "metadata": {
        "trusted": true,
        "_uuid": "115be89aa656eb95e1bed2744057a4144dc8fe1c"
      },
      "cell_type": "code",
      "source": "np.max(train_df.question_text.str.len().max())",
      "execution_count": null,
      "outputs": []
    },
    {
      "metadata": {
        "trusted": true,
        "_uuid": "d197ee6686bcd34791c0b851d1bc94f61fe94648"
      },
      "cell_type": "code",
      "source": "from keras.preprocessing.sequence import pad_sequences\ntrain=tok_raw.texts_to_sequences(train_df.question_text.str.lower())\ntest=tok_raw.texts_to_sequences(test_df.question_text.str.lower())\n\n\nMAX_TEXT = np.max([\n    np.max(np.array(train).max()),\n    np.max(np.array(test).max()),\n]) + 100\n#MAX_TEXT=np.max(train.max())+100\nMAX_ITEM_DESC_SEQ=255\nMAX_CATEGORY = np.max(predklabel.max()) + 1\ny_train=train_df.target\nprint(MAX_TEXT)\nprint(MAX_CATEGORY)",
      "execution_count": 66,
      "outputs": [
        {
          "output_type": "stream",
          "text": "227633\n7\n",
          "name": "stdout"
        }
      ]
    },
    {
      "metadata": {
        "trusted": true,
        "_uuid": "b9b62dd3a5e6c86ad4facf060587e8f7fe406fc3"
      },
      "cell_type": "code",
      "source": "x_train=pad_sequences(train, maxlen=MAX_ITEM_DESC_SEQ),\nprint(x_train[0].shape)\n\nx_test=pad_sequences(test, maxlen=MAX_ITEM_DESC_SEQ),\nprint(x_test[0].shape)",
      "execution_count": 67,
      "outputs": [
        {
          "output_type": "stream",
          "text": "(1306122, 255)\n(56370, 255)\n",
          "name": "stdout"
        }
      ]
    },
    {
      "metadata": {
        "trusted": true,
        "_uuid": "72707f8c9fd31db78fd07db2a032f25f32627465"
      },
      "cell_type": "code",
      "source": "print(x_train.shape)",
      "execution_count": null,
      "outputs": []
    },
    {
      "metadata": {
        "trusted": true,
        "_uuid": "ad63d7726188f275c6e9f0db03ae0ef9a397d8d0"
      },
      "cell_type": "code",
      "source": "",
      "execution_count": 12,
      "outputs": [
        {
          "output_type": "stream",
          "text": "(1306122, 1)\n(56370, 1)\n",
          "name": "stdout"
        }
      ]
    },
    {
      "metadata": {
        "trusted": true,
        "_uuid": "1e5249eccf70d32fd20dec97a27fdfb0ef30f6fd"
      },
      "cell_type": "code",
      "source": "from sklearn.model_selection import train_test_split\nXSeq,XTSeq,XK,XTK,Y,YT=train_test_split(x_train[0],predklabel,y_train,test_size=0.08,stratify=y_train)\n\nXK=XK.reshape(-1,1)\nXTK=XTK.reshape(-1,1)\n#Y=Y.reshape(-1,1)\n#YT=YT.reshape(-1,1)\nprint(XSeq.shape)\nprint(XK.shape)\nprint(Y.shape)",
      "execution_count": 68,
      "outputs": [
        {
          "output_type": "stream",
          "text": "(1201632, 255)\n(1201632, 1)\n(1201632,)\n",
          "name": "stdout"
        }
      ]
    },
    {
      "metadata": {
        "trusted": true,
        "_uuid": "f1110fe88594023bba484efb1ffeff020fb2b156",
        "scrolled": true
      },
      "cell_type": "code",
      "source": "\nnp.random.seed(7)\nfrom keras.layers.advanced_activations import LeakyReLU, PReLU\nfrom keras.layers import Conv1D,Input, Dropout, Dense, concatenate, GRU, Embedding, Flatten, Activation,BatchNormalization,GaussianNoise\nfrom keras.layers import Input, Dropout, Dense, concatenate, GRU, Embedding, Flatten, Activation,BatchNormalization,GaussianNoise,GaussianDropout\nfrom keras.layers import Bidirectional\nfrom keras.optimizers import Adam,SGD\nfrom keras.models import Model\nfrom keras import backend as K\n\n\n\ndef noise_measurement(train, noise_level):\n    noised_train = train.copy()\n    to_transform = np.random.random(train.shape) &lt; noise_level\n    transform_y = np.random.randint(0, max_features, size=train.shape)\n    noised_train[to_transform] = transform_y[to_transform]\n    return noised_train\n\ndef get_model(lr=0.001, decay=0.0):    \n    item_desc = Input(shape=[XSeq.shape[1]], name=\"item_desc\")  \n    #item_desc_gau=Dropout(0.3)(item_desc)\n    Klabel= Input(shape=[1], name=\"klabel\")      \n    emb_category_name = Embedding(MAX_CATEGORY, 10)(Klabel)    \n    emb_item_desc = Embedding(MAX_TEXT, 120)(item_desc)            \n    rnn_layer1 = GRU(50,return_sequences=True) (emb_item_desc)\n    rnn_layer2=GRU(25)(rnn_layer1)\n    \n    main_l = concatenate([\n        Flatten() (emb_category_name)\n        #       \n        , rnn_layer2\n#         , rnn_layer3\n        \n    ])\n   # main_l = Dropout(0.6)(Dense(512,kernel_initializer='normal',activation='relu') (main_l))     \n   # main_l = Dropout(0.6)(Dense(256,kernel_initializer='normal',activation='relu') (main_l))    \n   # main_l = Dropout(0.6)(Dense(128,kernel_initializer='normal',activation='relu') (main_l))    \n   # main_l = Dropout(0.6)(Dense(64,kernel_initializer='normal',activation='relu') (main_l))    \n    output = Dense(1, activation=\"sigmoid\") (main_l)\n    optimizer = Adam(lr=lr, decay=decay)\n    model = Model([item_desc,Klabel], output)\n    #sparse_categorical_crossentropy\n    \n    model.compile(loss =\"binary_crossentropy\", optimizer = optimizer,metrics=['acc'])\n    model.summary()\n    return model\n\n\n# Set hyper parameters for the model.\nBATCH_SIZE = 320\nepochs = 2\n\n# Calculate learning rate decay.\nexp_decay = lambda init, fin, steps: (init/fin)**(1/(steps-1)) - 1\nsteps = int(len(x_train[0]) / BATCH_SIZE) * epochs\nlr_init, lr_fin = 0.005, 0.001\nlr_decay = exp_decay(lr_init, lr_fin, steps)\n\n#F1_Score = F1Evaluation(validation_data=([XTSeq,XTK], YT), interval=1)\n\nmodel = get_model(lr=lr_init, decay=lr_decay)\nmodel.fit(\n        [XSeq,XK],Y, epochs=epochs, batch_size=BATCH_SIZE, verbose=1,validation_data=([XTSeq,XTK],YT)\n    #,callbacks=[F1_Score]\n)\n",
      "execution_count": null,
      "outputs": []
    },
    {
      "metadata": {
        "trusted": true,
        "_uuid": "c0bb41417b69fa0dacf25ef442ef40654dffe345"
      },
      "cell_type": "code",
      "source": "from sklearn import metrics\n\npred_val_y_4 = model.predict([XTSeq,XTK], batch_size=1024, verbose=1)",
      "execution_count": 62,
      "outputs": [
        {
          "output_type": "stream",
          "text": "104490/104490 [==============================] - 17s 166us/step\n",
          "name": "stdout"
        }
      ]
    },
    {
      "metadata": {
        "trusted": true,
        "_uuid": "9b16d3b5c5c5a396a9b70ac2e21df5218648edbd"
      },
      "cell_type": "code",
      "source": "\nthresholds = []\nfor thresh in np.arange(0.01, 0.99, 0.01):\n    thresh = np.round(thresh, 2)\n    res = metrics.f1_score(YT, (pred_val_y_4 > thresh).astype(int))\n    thresholds.append([thresh, res])\n    print(\"F1 score at threshold {0} is {1}\".format(thresh, res))\n    \nthresholds.sort(key=lambda x: x[1], reverse=True)\nbest_thresh_4 = thresholds[0][0]\nprint(\"Best threshold: \", best_thresh_4)\n\n#y_pred_4 = MODEL4.predict(x_test, batch_size=1024, verbose=True)\n\n\n",
      "execution_count": 63,
      "outputs": [
        {
          "output_type": "stream",
          "text": "F1 score at threshold 0.01 is 0.1330481470164564\nF1 score at threshold 0.02 is 0.136654168898411\nF1 score at threshold 0.03 is 0.13703207177477572\nF1 score at threshold 0.04 is 0.13747043272575482\nF1 score at threshold 0.05 is 0.1378088242847604\nF1 score at threshold 0.06 is 0.13789429412589374\nF1 score at threshold 0.07 is 0.13864997112725286\nF1 score at threshold 0.08 is 0.1389578163771712\nF1 score at threshold 0.09 is 0.13856683894398658\nF1 score at threshold 0.1 is 0.1386131251161926\nF1 score at threshold 0.11 is 0.13733736881411895\nF1 score at threshold 0.12 is 0.13753796230810833\nF1 score at threshold 0.13 is 0.1357224217997021\nF1 score at threshold 0.14 is 0.1342128166368925\nF1 score at threshold 0.15 is 0.132485781197725\nF1 score at threshold 0.16 is 0.13145820865749053\nF1 score at threshold 0.17 is 0.13075687716935191\nF1 score at threshold 0.18 is 0.12879276952872823\nF1 score at threshold 0.19 is 0.1277166322140902\nF1 score at threshold 0.2 is 0.12643146327356852\nF1 score at threshold 0.21 is 0.1256362656446494\nF1 score at threshold 0.22 is 0.12363096343048079\nF1 score at threshold 0.23 is 0.12228243544788014\nF1 score at threshold 0.24 is 0.1202394264289943\nF1 score at threshold 0.25 is 0.11913626209977662\nF1 score at threshold 0.26 is 0.11776196455978792\nF1 score at threshold 0.27 is 0.11579249068501002\nF1 score at threshold 0.28 is 0.11381516064995222\nF1 score at threshold 0.29 is 0.11213968540678859\nF1 score at threshold 0.3 is 0.11051254425119286\nF1 score at threshold 0.31 is 0.1080356438766659\nF1 score at threshold 0.32 is 0.10555152687132384\nF1 score at threshold 0.33 is 0.1039432436891602\nF1 score at threshold 0.34 is 0.10082616759399764\nF1 score at threshold 0.35 is 0.09746857241260548\nF1 score at threshold 0.36 is 0.09519627645560727\nF1 score at threshold 0.37 is 0.09372205329994635\nF1 score at threshold 0.38 is 0.09101687186502508\nF1 score at threshold 0.39 is 0.08954946586158848\nF1 score at threshold 0.4 is 0.08714596949891068\nF1 score at threshold 0.41 is 0.0850776502363268\nF1 score at threshold 0.42 is 0.08131997642899233\nF1 score at threshold 0.43 is 0.07936825269892042\nF1 score at threshold 0.44 is 0.07686832740213523\nF1 score at threshold 0.45 is 0.074097071302908\nF1 score at threshold 0.46 is 0.07152624382034291\nF1 score at threshold 0.47 is 0.0695038494439692\nF1 score at threshold 0.48 is 0.06752795570513517\nF1 score at threshold 0.49 is 0.06644664466446644\nF1 score at threshold 0.5 is 0.06495535714285715\nF1 score at threshold 0.51 is 0.06274776305357346\nF1 score at threshold 0.52 is 0.061219792865362485\nF1 score at threshold 0.53 is 0.058981233243967826\nF1 score at threshold 0.54 is 0.05623818525519849\nF1 score at threshold 0.55 is 0.05347721822541967\nF1 score at threshold 0.56 is 0.05118874332848132\nF1 score at threshold 0.57 is 0.04889434889434889\nF1 score at threshold 0.58 is 0.046610169491525424\nF1 score at threshold 0.59 is 0.044399596367305755\nF1 score at threshold 0.6 is 0.04269461843282628\nF1 score at threshold 0.61 is 0.03985507246376812\nF1 score at threshold 0.62 is 0.03822489854693023\nF1 score at threshold 0.63 is 0.03597407750297579\nF1 score at threshold 0.64 is 0.03334222459322486\nF1 score at threshold 0.65 is 0.030674021256558593\nF1 score at threshold 0.66 is 0.0282800815771584\nF1 score at threshold 0.67 is 0.02608098833218943\nF1 score at threshold 0.68 is 0.024650325439689792\nF1 score at threshold 0.69 is 0.023998883772847774\nF1 score at threshold 0.7 is 0.021671826625387\nF1 score at threshold 0.71 is 0.02046617396247868\nF1 score at threshold 0.72 is 0.019745314064959222\nF1 score at threshold 0.73 is 0.019003743161531816\nF1 score at threshold 0.74 is 0.01739634676717889\nF1 score at threshold 0.75 is 0.015456401283172935\nF1 score at threshold 0.76 is 0.013515498751285443\nF1 score at threshold 0.77 is 0.013002364066193853\nF1 score at threshold 0.78 is 0.011297755314404639\nF1 score at threshold 0.79 is 0.010159868519348572\nF1 score at threshold 0.8 is 0.008115419296663661\nF1 score at threshold 0.81 is 0.006650544135429262\nF1 score at threshold 0.82 is 0.005174250494597473\nF1 score at threshold 0.83 is 0.003358778625954199\nF1 score at threshold 0.84 is 0.0024521072796934865\nF1 score at threshold 0.85 is 0.0021482277121374865\nF1 score at threshold 0.86 is 0.0015372790161414297\nF1 score at threshold 0.87 is 0.0015398829688943643\nF1 score at threshold 0.88 is 0.0012339966065093321\nF1 score at threshold 0.89 is 0.001235712079085573\nF1 score at threshold 0.9 is 0.0006181424818420645\nF1 score at threshold 0.91 is 0.0003091667954861648\nF1 score at threshold 0.92 is 0.0\nF1 score at threshold 0.93 is 0.0\nF1 score at threshold 0.94 is 0.0\nF1 score at threshold 0.95 is 0.0\nF1 score at threshold 0.96 is 0.0\nF1 score at threshold 0.97 is 0.0\nF1 score at threshold 0.98 is 0.0\nBest threshold:  0.08\n",
          "name": "stdout"
        }
      ]
    },
    {
      "metadata": {
        "trusted": true,
        "_uuid": "09860a30cf3884e443f9bd4dcc7dcb5695b47f3f"
      },
      "cell_type": "code",
      "source": "y_test=model.predict([x_test[0],predklabelTest], batch_size=1024, verbose=1)\ny_te = (y_test[:,0] > best_thresh_4).astype(np.int)\n\nsubmit_df = pd.DataFrame({\"qid\": test_df[\"qid\"], \"prediction\": y_te})\nsubmit_df.to_csv(\"submission.csv\", index=False)\n",
      "execution_count": 64,
      "outputs": [
        {
          "output_type": "stream",
          "text": "56370/56370 [==============================] - 9s 153us/step\n",
          "name": "stdout"
        }
      ]
    },
    {
      "metadata": {
        "trusted": true,
        "_uuid": "aa3f301270c88ce649cbd6c8ee6ff4b145ff47e1"
      },
      "cell_type": "code",
      "source": "submit_df",
      "execution_count": 65,
      "outputs": [
        {
          "output_type": "execute_result",
          "execution_count": 65,
          "data": {
            "text/plain": "                        qid  prediction\n0      00014894849d00ba98a9           0\n1      000156468431f09b3cae           1\n2      000227734433360e1aae           0\n3      0005e06fbe3045bd2a92           0\n4      00068a0f7f41f50fc399           0\n5      000a2d30e3ffd70c070d           0\n6      000b67672ec9622ff761           0\n7      000b7fb1146d712c1105           0\n8      000d665a8ddc426a1907           0\n9      000df6fd2229447b2969           1\n10     000e8d4169c8dc7ab5ee           0\n11     000ef78071824e781d67           0\n12     001014ae8ebec25a597a           0\n13     0010236e0aa3ab39a282           0\n14     00105665c8ffd3c5852a           1\n15     00106ef7c87fca3b77a8           0\n16     001441e83b68c02c30da           0\n17     0014a461bd2a374f2eec           0\n18     0017148dde8e587c0f9c           0\n19     00175846ae0cfa2fc7d4           0\n20     0018d0ba9822bdb872b3           0\n21     001a492c2df37ba885d0           0\n22     001a52478cd34a11aee6           0\n23     001c132aa697402a00db           0\n24     001cb1f0c10c8e413418           1\n25     001e31e30a5762fa97fd           0\n26     001e50b789e8db63b7bb           0\n27     0021ef17b8d5a2cfa678           0\n28     00262cae7eb54e29dce7           0\n29     00277400ab4bae3246b0           0\n...                     ...         ...\n56340  ffe1490e6c333cedd2f7           0\n56341  ffe36c4e99a0009cd0cb           0\n56342  ffe3e5dac8b60c486704           0\n56343  ffe4e49cea5001b06de0           0\n56344  ffe5333ee3855bf73bdd           0\n56345  ffe7a676812dfe4926c3           1\n56346  ffe96f277e3baaddb460           0\n56347  ffec63bf2ea2d0d43c22           0\n56348  ffec7764880d6b114176           0\n56349  ffecb50df50c50556d8f           1\n56350  ffeeea70c26526195b55           0\n56351  ffef23c893372ee432f9           1\n56352  ffefbc6cbc7b9adfc7ea           1\n56353  fff129834ba83186f1e6           0\n56354  fff1f11c2e36bb79c92d           0\n56355  fff1f6a405468d63be8b           0\n56356  fff20729419cc44c222b           0\n56357  fff21d679026c090dbc2           1\n56358  fff3197749c50a48833c           0\n56359  fff3a8510e7177c68b82           0\n56360  fff48bceec3d565dce42           0\n56361  fff5b5552fbb05a98f8b           0\n56362  fff98b13ab94f1a5d37f           0\n56363  fffb418e5e087182294d           0\n56364  fffc3df92967fc1ff426           0\n56365  fffcf200619ef3426fc5           1\n56366  fffd424460c17be3f503           1\n56367  fffe18f21e5e070e55de           0\n56368  fffe4dd6bb7fd8fc1924           1\n56369  fffed08be2626f74b139           0\n\n[56370 rows x 2 columns]",
            "text/html": "<div>\n<style scoped>\n    .dataframe tbody tr th:only-of-type {\n        vertical-align: middle;\n    }\n\n    .dataframe tbody tr th {\n        vertical-align: top;\n    }\n\n    .dataframe thead th {\n        text-align: right;\n    }\n</style>\n<table border=\"1\" class=\"dataframe\">\n  <thead>\n    <tr style=\"text-align: right;\">\n      <th></th>\n      <th>qid</th>\n      <th>prediction</th>\n    </tr>\n  </thead>\n  <tbody>\n    <tr>\n      <th>0</th>\n      <td>00014894849d00ba98a9</td>\n      <td>0</td>\n    </tr>\n    <tr>\n      <th>1</th>\n      <td>000156468431f09b3cae</td>\n      <td>1</td>\n    </tr>\n    <tr>\n      <th>2</th>\n      <td>000227734433360e1aae</td>\n      <td>0</td>\n    </tr>\n    <tr>\n      <th>3</th>\n      <td>0005e06fbe3045bd2a92</td>\n      <td>0</td>\n    </tr>\n    <tr>\n      <th>4</th>\n      <td>00068a0f7f41f50fc399</td>\n      <td>0</td>\n    </tr>\n    <tr>\n      <th>5</th>\n      <td>000a2d30e3ffd70c070d</td>\n      <td>0</td>\n    </tr>\n    <tr>\n      <th>6</th>\n      <td>000b67672ec9622ff761</td>\n      <td>0</td>\n    </tr>\n    <tr>\n      <th>7</th>\n      <td>000b7fb1146d712c1105</td>\n      <td>0</td>\n    </tr>\n    <tr>\n      <th>8</th>\n      <td>000d665a8ddc426a1907</td>\n      <td>0</td>\n    </tr>\n    <tr>\n      <th>9</th>\n      <td>000df6fd2229447b2969</td>\n      <td>1</td>\n    </tr>\n    <tr>\n      <th>10</th>\n      <td>000e8d4169c8dc7ab5ee</td>\n      <td>0</td>\n    </tr>\n    <tr>\n      <th>11</th>\n      <td>000ef78071824e781d67</td>\n      <td>0</td>\n    </tr>\n    <tr>\n      <th>12</th>\n      <td>001014ae8ebec25a597a</td>\n      <td>0</td>\n    </tr>\n    <tr>\n      <th>13</th>\n      <td>0010236e0aa3ab39a282</td>\n      <td>0</td>\n    </tr>\n    <tr>\n      <th>14</th>\n      <td>00105665c8ffd3c5852a</td>\n      <td>1</td>\n    </tr>\n    <tr>\n      <th>15</th>\n      <td>00106ef7c87fca3b77a8</td>\n      <td>0</td>\n    </tr>\n    <tr>\n      <th>16</th>\n      <td>001441e83b68c02c30da</td>\n      <td>0</td>\n    </tr>\n    <tr>\n      <th>17</th>\n      <td>0014a461bd2a374f2eec</td>\n      <td>0</td>\n    </tr>\n    <tr>\n      <th>18</th>\n      <td>0017148dde8e587c0f9c</td>\n      <td>0</td>\n    </tr>\n    <tr>\n      <th>19</th>\n      <td>00175846ae0cfa2fc7d4</td>\n      <td>0</td>\n    </tr>\n    <tr>\n      <th>20</th>\n      <td>0018d0ba9822bdb872b3</td>\n      <td>0</td>\n    </tr>\n    <tr>\n      <th>21</th>\n      <td>001a492c2df37ba885d0</td>\n      <td>0</td>\n    </tr>\n    <tr>\n      <th>22</th>\n      <td>001a52478cd34a11aee6</td>\n      <td>0</td>\n    </tr>\n    <tr>\n      <th>23</th>\n      <td>001c132aa697402a00db</td>\n      <td>0</td>\n    </tr>\n    <tr>\n      <th>24</th>\n      <td>001cb1f0c10c8e413418</td>\n      <td>1</td>\n    </tr>\n    <tr>\n      <th>25</th>\n      <td>001e31e30a5762fa97fd</td>\n      <td>0</td>\n    </tr>\n    <tr>\n      <th>26</th>\n      <td>001e50b789e8db63b7bb</td>\n      <td>0</td>\n    </tr>\n    <tr>\n      <th>27</th>\n      <td>0021ef17b8d5a2cfa678</td>\n      <td>0</td>\n    </tr>\n    <tr>\n      <th>28</th>\n      <td>00262cae7eb54e29dce7</td>\n      <td>0</td>\n    </tr>\n    <tr>\n      <th>29</th>\n      <td>00277400ab4bae3246b0</td>\n      <td>0</td>\n    </tr>\n    <tr>\n      <th>...</th>\n      <td>...</td>\n      <td>...</td>\n    </tr>\n    <tr>\n      <th>56340</th>\n      <td>ffe1490e6c333cedd2f7</td>\n      <td>0</td>\n    </tr>\n    <tr>\n      <th>56341</th>\n      <td>ffe36c4e99a0009cd0cb</td>\n      <td>0</td>\n    </tr>\n    <tr>\n      <th>56342</th>\n      <td>ffe3e5dac8b60c486704</td>\n      <td>0</td>\n    </tr>\n    <tr>\n      <th>56343</th>\n      <td>ffe4e49cea5001b06de0</td>\n      <td>0</td>\n    </tr>\n    <tr>\n      <th>56344</th>\n      <td>ffe5333ee3855bf73bdd</td>\n      <td>0</td>\n    </tr>\n    <tr>\n      <th>56345</th>\n      <td>ffe7a676812dfe4926c3</td>\n      <td>1</td>\n    </tr>\n    <tr>\n      <th>56346</th>\n      <td>ffe96f277e3baaddb460</td>\n      <td>0</td>\n    </tr>\n    <tr>\n      <th>56347</th>\n      <td>ffec63bf2ea2d0d43c22</td>\n      <td>0</td>\n    </tr>\n    <tr>\n      <th>56348</th>\n      <td>ffec7764880d6b114176</td>\n      <td>0</td>\n    </tr>\n    <tr>\n      <th>56349</th>\n      <td>ffecb50df50c50556d8f</td>\n      <td>1</td>\n    </tr>\n    <tr>\n      <th>56350</th>\n      <td>ffeeea70c26526195b55</td>\n      <td>0</td>\n    </tr>\n    <tr>\n      <th>56351</th>\n      <td>ffef23c893372ee432f9</td>\n      <td>1</td>\n    </tr>\n    <tr>\n      <th>56352</th>\n      <td>ffefbc6cbc7b9adfc7ea</td>\n      <td>1</td>\n    </tr>\n    <tr>\n      <th>56353</th>\n      <td>fff129834ba83186f1e6</td>\n      <td>0</td>\n    </tr>\n    <tr>\n      <th>56354</th>\n      <td>fff1f11c2e36bb79c92d</td>\n      <td>0</td>\n    </tr>\n    <tr>\n      <th>56355</th>\n      <td>fff1f6a405468d63be8b</td>\n      <td>0</td>\n    </tr>\n    <tr>\n      <th>56356</th>\n      <td>fff20729419cc44c222b</td>\n      <td>0</td>\n    </tr>\n    <tr>\n      <th>56357</th>\n      <td>fff21d679026c090dbc2</td>\n      <td>1</td>\n    </tr>\n    <tr>\n      <th>56358</th>\n      <td>fff3197749c50a48833c</td>\n      <td>0</td>\n    </tr>\n    <tr>\n      <th>56359</th>\n      <td>fff3a8510e7177c68b82</td>\n      <td>0</td>\n    </tr>\n    <tr>\n      <th>56360</th>\n      <td>fff48bceec3d565dce42</td>\n      <td>0</td>\n    </tr>\n    <tr>\n      <th>56361</th>\n      <td>fff5b5552fbb05a98f8b</td>\n      <td>0</td>\n    </tr>\n    <tr>\n      <th>56362</th>\n      <td>fff98b13ab94f1a5d37f</td>\n      <td>0</td>\n    </tr>\n    <tr>\n      <th>56363</th>\n      <td>fffb418e5e087182294d</td>\n      <td>0</td>\n    </tr>\n    <tr>\n      <th>56364</th>\n      <td>fffc3df92967fc1ff426</td>\n      <td>0</td>\n    </tr>\n    <tr>\n      <th>56365</th>\n      <td>fffcf200619ef3426fc5</td>\n      <td>1</td>\n    </tr>\n    <tr>\n      <th>56366</th>\n      <td>fffd424460c17be3f503</td>\n      <td>1</td>\n    </tr>\n    <tr>\n      <th>56367</th>\n      <td>fffe18f21e5e070e55de</td>\n      <td>0</td>\n    </tr>\n    <tr>\n      <th>56368</th>\n      <td>fffe4dd6bb7fd8fc1924</td>\n      <td>1</td>\n    </tr>\n    <tr>\n      <th>56369</th>\n      <td>fffed08be2626f74b139</td>\n      <td>0</td>\n    </tr>\n  </tbody>\n</table>\n<p>56370 rows × 2 columns</p>\n</div>"
          },
          "metadata": {}
        }
      ]
    }
  ],
  "metadata": {
    "kernelspec": {
      "display_name": "Python 3",
      "language": "python",
      "name": "python3"
    },
    "language_info": {
      "name": "python",
      "version": "3.6.6",
      "mimetype": "text/x-python",
      "codemirror_mode": {
        "name": "ipython",
        "version": 3
      },
      "pygments_lexer": "ipython3",
      "nbconvert_exporter": "python",
      "file_extension": ".py"
    }
  },
  "nbformat": 4,
  "nbformat_minor": 1
}